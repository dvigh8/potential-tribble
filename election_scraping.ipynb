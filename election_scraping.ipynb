{
 "metadata": {
  "language_info": {
   "codemirror_mode": {
    "name": "ipython",
    "version": 3
   },
   "file_extension": ".py",
   "mimetype": "text/x-python",
   "name": "python",
   "nbconvert_exporter": "python",
   "pygments_lexer": "ipython3",
   "version": "3.8.5-final"
  },
  "orig_nbformat": 2,
  "kernelspec": {
   "name": "python3",
   "display_name": "Python 3"
  }
 },
 "nbformat": 4,
 "nbformat_minor": 2,
 "cells": [
  {
   "cell_type": "code",
   "execution_count": null,
   "metadata": {},
   "outputs": [],
   "source": [
    "https://static01.nyt.com/elections-assets/2020/data/api/2020-11-03/precincts/PAGeneralConcatenator-2020-11-04T02:22:26.699Z.json"
   ]
  },
  {
   "cell_type": "code",
   "execution_count": 29,
   "metadata": {},
   "outputs": [
    {
     "output_type": "display_data",
     "data": {
      "text/html": "        <script type=\"text/javascript\">\n        window.PlotlyConfig = {MathJaxConfig: 'local'};\n        if (window.MathJax) {MathJax.Hub.Config({SVG: {font: \"STIX-Web\"}});}\n        if (typeof require !== 'undefined') {\n        require.undef(\"plotly\");\n        requirejs.config({\n            paths: {\n                'plotly': ['https://cdn.plot.ly/plotly-latest.min']\n            }\n        });\n        require(['plotly'], function(Plotly) {\n            window._Plotly = Plotly;\n        });\n        }\n        </script>\n        "
     },
     "metadata": {}
    }
   ],
   "source": [
    "import requests\n",
    "import json\n",
    "import matplotlib.pyplot as plt\n",
    "import geopandas as gpd\n",
    "import time\n",
    "from datetime import datetime, timedelta\n",
    "from tqdm import tqdm\n",
    "import pandas as pd\n",
    "import numpy as np\n",
    "import math\n",
    "import plotly\n",
    "import plotly.graph_objs as go\n",
    "import plotly.offline as offline\n",
    "from plotly.graph_objs import *\n",
    "from plotly.offline import download_plotlyjs, init_notebook_mode, plot, iplot\n",
    "import plotly.express as px\n",
    "init_notebook_mode(connected=True)\n",
    "from urllib.request import urlopen\n",
    "import json\n",
    "from dateutil.relativedelta import relativedelta\n",
    "pd.set_option('display.max_columns', 500)\n",
    "# # pd.set_option('display.max_rows', 500)\n",
    "# states = [\"AK\", \"AL\", \"AZ\", \"AR\", \"CA\", \"CO\", \"CT\", \"DE\", \"FL\", \"GA\", \"HI\", \"ID\", \"IL\", \"IN\", \"IA\", \"KS\", \"KY\", \"LA\", \"ME\", \"MD\", \"MA\", \"MI\", \"MN\", \"MS\", \"MO\", \"MT\", \"NE\", \"NV\", \"NH\", \"NJ\", \"NM\", \"NY\", \"NC\", \"ND\", \"OH\", \"OK\", \"OR\", \"PA\", \"RI\", \"SC\", \"SD\", \"TN\", \"TX\", \"UT\", \"VT\", \"VA\", \"WA\", \"WV\", \"WI\", \"WY\"]\n",
    "# shp = gpd.read_file(\"s_11au16/s_11au16.shp\")\n",
    "# state_pop = pd.read_excel(\"pop_est.xlsx\")\n",
    "\n",
    "url = \"https://covidtracking.com/api/v1/states/daily.json\"\n",
    "req = requests.get(url)\n",
    "result = json.loads(req.text) \n",
    "from threading import Thread"
   ]
  },
  {
   "cell_type": "code",
   "execution_count": 21,
   "metadata": {},
   "outputs": [
    {
     "output_type": "execute_result",
     "data": {
      "text/plain": [
       "'11-23-2020T21:54:122'"
      ]
     },
     "metadata": {},
     "execution_count": 21
    }
   ],
   "source": [
    "(datetime.now()-relativedelta(microsecond=200000)).strftime('%m-%d-%YT%H:%M:%S%f')[:-5]"
   ]
  },
  {
   "cell_type": "code",
   "execution_count": 5,
   "metadata": {},
   "outputs": [],
   "source": [
    "t=datetime.now()"
   ]
  },
  {
   "cell_type": "code",
   "execution_count": 9,
   "metadata": {},
   "outputs": [
    {
     "output_type": "execute_result",
     "data": {
      "text/plain": [
       "'11-24-2020T00:25:34.174Z.json'"
      ]
     },
     "metadata": {},
     "execution_count": 9
    }
   ],
   "source": [
    "t=t+timedelta(microseconds=1000)\n",
    "t.strftime('%m-%d-%YT%H:%M:%S.%f')[:-3] + \"Z.json\""
   ]
  },
  {
   "cell_type": "code",
   "execution_count": 92,
   "metadata": {},
   "outputs": [
    {
     "output_type": "execute_result",
     "data": {
      "text/plain": [
       "datetime.datetime(2020, 11, 23, 21, 54, 25, 1000)"
      ]
     },
     "metadata": {},
     "execution_count": 92
    }
   ],
   "source": [
    "t + timedelta(seconds=1)"
   ]
  },
  {
   "cell_type": "code",
   "execution_count": null,
   "metadata": {},
   "outputs": [],
   "source": [
    "2020-11-04T09:25"
   ]
  },
  {
   "cell_type": "code",
   "execution_count": 27,
   "metadata": {},
   "outputs": [],
   "source": [
    "start_time = datetime(year=2020, month=11,day=4,hour=0,minute=55)"
   ]
  },
  {
   "cell_type": "code",
   "execution_count": 12,
   "metadata": {},
   "outputs": [],
   "source": [
    "urls = []\n",
    "for i in range(1000):\n",
    "  \n",
    "    urls.append(\"https://static01.nyt.com/elections-assets/2020/data/api/2020-11-03/precincts/PAGeneralConcatenator-\" + start_time.strftime('%m-%d-%YT%H:%M:%S.%f')[:-3] + \"Z.json\" )\n",
    "    start_time+=timedelta(microseconds=1000)\n"
   ]
  },
  {
   "cell_type": "code",
   "execution_count": 31,
   "metadata": {},
   "outputs": [
    {
     "output_type": "execute_result",
     "data": {
      "text/plain": [
       "'11-04-2020T00:55:00.000Z.json'"
      ]
     },
     "metadata": {},
     "execution_count": 31
    }
   ],
   "source": [
    "start_time.strftime('%m-%d-%YT%H:%M:%S.%f')[:-3] + \"Z.json\""
   ]
  },
  {
   "cell_type": "code",
   "execution_count": 30,
   "metadata": {
    "tags": []
   },
   "outputs": [
    {
     "output_type": "stream",
     "name": "stderr",
     "text": [
      "0it [00:00, ?it/s]\n"
     ]
    },
    {
     "output_type": "error",
     "ename": "TypeError",
     "evalue": "'int' object is not iterable",
     "traceback": [
      "\u001b[1;31m---------------------------------------------------------------------------\u001b[0m",
      "\u001b[1;31mTypeError\u001b[0m                                 Traceback (most recent call last)",
      "\u001b[1;32m<ipython-input-30-3e3042f24978>\u001b[0m in \u001b[0;36m<module>\u001b[1;34m\u001b[0m\n\u001b[1;32m----> 1\u001b[1;33m \u001b[1;32mfor\u001b[0m \u001b[0mld\u001b[0m \u001b[1;32min\u001b[0m \u001b[0mtqdm\u001b[0m\u001b[1;33m(\u001b[0m\u001b[1;36m4000\u001b[0m\u001b[1;33m)\u001b[0m\u001b[1;33m:\u001b[0m\u001b[1;33m\u001b[0m\u001b[1;33m\u001b[0m\u001b[0m\n\u001b[0m\u001b[0;32m      2\u001b[0m \u001b[1;33m\u001b[0m\u001b[0m\n\u001b[0;32m      3\u001b[0m     \u001b[0murls\u001b[0m \u001b[1;33m=\u001b[0m \u001b[1;33m[\u001b[0m\u001b[1;33m]\u001b[0m\u001b[1;33m\u001b[0m\u001b[1;33m\u001b[0m\u001b[0m\n\u001b[0;32m      4\u001b[0m     \u001b[1;32mfor\u001b[0m \u001b[0mi\u001b[0m \u001b[1;32min\u001b[0m \u001b[0mrange\u001b[0m\u001b[1;33m(\u001b[0m\u001b[1;36m1000\u001b[0m\u001b[1;33m)\u001b[0m\u001b[1;33m:\u001b[0m\u001b[1;33m\u001b[0m\u001b[1;33m\u001b[0m\u001b[0m\n\u001b[0;32m      5\u001b[0m \u001b[1;33m\u001b[0m\u001b[0m\n",
      "\u001b[1;32mC:\\tools\\Anaconda3\\lib\\site-packages\\tqdm\\std.py\u001b[0m in \u001b[0;36m__iter__\u001b[1;34m(self)\u001b[0m\n\u001b[0;32m   1169\u001b[0m \u001b[1;33m\u001b[0m\u001b[0m\n\u001b[0;32m   1170\u001b[0m         \u001b[1;32mtry\u001b[0m\u001b[1;33m:\u001b[0m\u001b[1;33m\u001b[0m\u001b[1;33m\u001b[0m\u001b[0m\n\u001b[1;32m-> 1171\u001b[1;33m             \u001b[1;32mfor\u001b[0m \u001b[0mobj\u001b[0m \u001b[1;32min\u001b[0m \u001b[0miterable\u001b[0m\u001b[1;33m:\u001b[0m\u001b[1;33m\u001b[0m\u001b[1;33m\u001b[0m\u001b[0m\n\u001b[0m\u001b[0;32m   1172\u001b[0m                 \u001b[1;32myield\u001b[0m \u001b[0mobj\u001b[0m\u001b[1;33m\u001b[0m\u001b[1;33m\u001b[0m\u001b[0m\n\u001b[0;32m   1173\u001b[0m                 \u001b[1;31m# Update and possibly print the progressbar.\u001b[0m\u001b[1;33m\u001b[0m\u001b[1;33m\u001b[0m\u001b[1;33m\u001b[0m\u001b[0m\n",
      "\u001b[1;31mTypeError\u001b[0m: 'int' object is not iterable"
     ]
    }
   ],
   "source": [
    "\n",
    "for ld in tqdm(range(4000)):\n",
    "\n",
    "    urls = []\n",
    "    for i in range(1000):\n",
    "    \n",
    "        urls.append(\"https://static01.nyt.com/elections-assets/2020/data/api/2020-11-03/precincts/PAGeneralConcatenator-\" + start_time.strftime('%m-%d-%YT%H:%M:%S.%f')[:-3] + \"Z.json\" )\n",
    "        start_time+=timedelta(microseconds=1000)\n",
    "\n",
    "    def process(url):\n",
    "        # print(url)\n",
    "        try:\n",
    "            req= requests.get(url)\n",
    "            result = json.loads(req.text) \n",
    "            with open(\"C:/Users/David/Documents/GitHub/potential-tribble/downloads/\" + url[99:], 'w') as outfile:\n",
    "                json.dump(result, outfile)\n",
    "        except Exception as e:\n",
    "            pass\n",
    "\n",
    "    for task in urls:\n",
    "        t = Thread(target=process, args=(task,))\n",
    "        t.start()"
   ]
  },
  {
   "cell_type": "code",
   "execution_count": 25,
   "metadata": {},
   "outputs": [],
   "source": [
    " states = [ x.lower().replace(\" \",'-') for x in ['Alabama',\n",
    " 'Alaska',\n",
    " 'Arizona',\n",
    " 'Arkansas',\n",
    " 'California',\n",
    " 'Colorado',\n",
    " 'Connecticut',\n",
    " 'Delaware',\n",
    " 'Florida',\n",
    " 'Georgia',\n",
    " 'Hawaii',\n",
    " 'Idaho',\n",
    " 'Illinois',\n",
    " 'Indiana',\n",
    " 'Iowa',\n",
    " 'Kansas',\n",
    " 'Kentucky',\n",
    " 'Louisiana',\n",
    " 'Maine',\n",
    " 'Maryland',\n",
    " 'Massachusetts',\n",
    " 'Michigan',\n",
    " 'Minnesota',\n",
    " 'Mississippi',\n",
    " 'Missouri',\n",
    " 'Montana',\n",
    " 'Nebraska',\n",
    " 'Nevada',\n",
    " 'New Hampshire',\n",
    " 'New Jersey',\n",
    " 'New Mexico',\n",
    " 'New York',\n",
    " 'North Carolina',\n",
    " 'North Dakota',\n",
    " 'Ohio',\n",
    " 'Oklahoma',\n",
    " 'Oregon',\n",
    " 'Pennsylvania',\n",
    " 'Rhode Island',\n",
    " 'South Carolina',\n",
    " 'South Dakota',\n",
    " 'Tennessee',\n",
    " 'Texas',\n",
    " 'Utah',\n",
    " 'Vermont',\n",
    " 'Virginia',\n",
    " 'Washington',\n",
    " 'West Virginia',\n",
    " 'Wisconsin',\n",
    " 'Wyoming']]"
   ]
  },
  {
   "cell_type": "code",
   "execution_count": 26,
   "metadata": {},
   "outputs": [
    {
     "output_type": "stream",
     "name": "stdout",
     "text": [
      "https://static01.nyt.com/elections-assets/2020/data/api/2020-11-03/race-page/alabama/president.json\n",
      "https://static01.nyt.com/elections-assets/2020/data/api/2020-11-03/race-page/alaska/president.json\n",
      "https://static01.nyt.com/elections-assets/2020/data/api/2020-11-03/race-page/arizona/president.json\n",
      "https://static01.nyt.com/elections-assets/2020/data/api/2020-11-03/race-page/arkansas/president.json\n",
      "https://static01.nyt.com/elections-assets/2020/data/api/2020-11-03/race-page/california/president.json\n",
      "https://static01.nyt.com/elections-assets/2020/data/api/2020-11-03/race-page/colorado/president.json\n",
      "https://static01.nyt.com/elections-assets/2020/data/api/2020-11-03/race-page/connecticut/president.json\n",
      "https://static01.nyt.com/elections-assets/2020/data/api/2020-11-03/race-page/delaware/president.json\n",
      "https://static01.nyt.com/elections-assets/2020/data/api/2020-11-03/race-page/florida/president.json\n",
      "https://static01.nyt.com/elections-assets/2020/data/api/2020-11-03/race-page/georgia/president.json\n",
      "https://static01.nyt.com/elections-assets/2020/data/api/2020-11-03/race-page/hawaii/president.json\n",
      "https://static01.nyt.com/elections-assets/2020/data/api/2020-11-03/race-page/idaho/president.json\n",
      "https://static01.nyt.com/elections-assets/2020/data/api/2020-11-03/race-page/illinois/president.json\n",
      "https://static01.nyt.com/elections-assets/2020/data/api/2020-11-03/race-page/indiana/president.json\n",
      "https://static01.nyt.com/elections-assets/2020/data/api/2020-11-03/race-page/iowa/president.json\n",
      "https://static01.nyt.com/elections-assets/2020/data/api/2020-11-03/race-page/kansas/president.json\n",
      "https://static01.nyt.com/elections-assets/2020/data/api/2020-11-03/race-page/kentucky/president.json\n",
      "https://static01.nyt.com/elections-assets/2020/data/api/2020-11-03/race-page/louisiana/president.json\n",
      "https://static01.nyt.com/elections-assets/2020/data/api/2020-11-03/race-page/maine/president.json\n",
      "https://static01.nyt.com/elections-assets/2020/data/api/2020-11-03/race-page/maryland/president.json\n",
      "https://static01.nyt.com/elections-assets/2020/data/api/2020-11-03/race-page/massachusetts/president.json\n",
      "https://static01.nyt.com/elections-assets/2020/data/api/2020-11-03/race-page/michigan/president.json\n",
      "https://static01.nyt.com/elections-assets/2020/data/api/2020-11-03/race-page/minnesota/president.json\n",
      "https://static01.nyt.com/elections-assets/2020/data/api/2020-11-03/race-page/mississippi/president.json\n",
      "https://static01.nyt.com/elections-assets/2020/data/api/2020-11-03/race-page/missouri/president.json\n",
      "https://static01.nyt.com/elections-assets/2020/data/api/2020-11-03/race-page/montana/president.json\n",
      "https://static01.nyt.com/elections-assets/2020/data/api/2020-11-03/race-page/nebraska/president.json\n",
      "https://static01.nyt.com/elections-assets/2020/data/api/2020-11-03/race-page/nevada/president.json\n",
      "https://static01.nyt.com/elections-assets/2020/data/api/2020-11-03/race-page/new-hampshire/president.json\n",
      "https://static01.nyt.com/elections-assets/2020/data/api/2020-11-03/race-page/new-jersey/president.json\n",
      "https://static01.nyt.com/elections-assets/2020/data/api/2020-11-03/race-page/new-mexico/president.json\n",
      "https://static01.nyt.com/elections-assets/2020/data/api/2020-11-03/race-page/new-york/president.json\n",
      "https://static01.nyt.com/elections-assets/2020/data/api/2020-11-03/race-page/north-carolina/president.json\n",
      "https://static01.nyt.com/elections-assets/2020/data/api/2020-11-03/race-page/north-dakota/president.json\n",
      "https://static01.nyt.com/elections-assets/2020/data/api/2020-11-03/race-page/ohio/president.json\n",
      "https://static01.nyt.com/elections-assets/2020/data/api/2020-11-03/race-page/oklahoma/president.json\n",
      "https://static01.nyt.com/elections-assets/2020/data/api/2020-11-03/race-page/oregon/president.json\n",
      "https://static01.nyt.com/elections-assets/2020/data/api/2020-11-03/race-page/pennsylvania/president.json\n",
      "https://static01.nyt.com/elections-assets/2020/data/api/2020-11-03/race-page/rhode-island/president.json\n",
      "https://static01.nyt.com/elections-assets/2020/data/api/2020-11-03/race-page/south-carolina/president.json\n",
      "https://static01.nyt.com/elections-assets/2020/data/api/2020-11-03/race-page/south-dakota/president.json\n",
      "https://static01.nyt.com/elections-assets/2020/data/api/2020-11-03/race-page/tennessee/president.json\n",
      "https://static01.nyt.com/elections-assets/2020/data/api/2020-11-03/race-page/texas/president.json\n",
      "https://static01.nyt.com/elections-assets/2020/data/api/2020-11-03/race-page/utah/president.json\n",
      "https://static01.nyt.com/elections-assets/2020/data/api/2020-11-03/race-page/vermont/president.json\n",
      "https://static01.nyt.com/elections-assets/2020/data/api/2020-11-03/race-page/virginia/president.json\n",
      "https://static01.nyt.com/elections-assets/2020/data/api/2020-11-03/race-page/washington/president.json\n",
      "https://static01.nyt.com/elections-assets/2020/data/api/2020-11-03/race-page/west-virginia/president.json\n",
      "https://static01.nyt.com/elections-assets/2020/data/api/2020-11-03/race-page/wisconsin/president.json\n",
      "https://static01.nyt.com/elections-assets/2020/data/api/2020-11-03/race-page/wyoming/president.json\n"
     ]
    }
   ],
   "source": [
    "for state in states:\n",
    "    url = \"https://static01.nyt.com/elections-assets/2020/data/api/2020-11-03/race-page/\" + state + \"/president.json\"\n",
    "    print(url)\n",
    "    try:\n",
    "        req= requests.get(url)\n",
    "        result = json.loads(req.text) \n",
    "        # with open(\"C:/Users/David/Documents/GitHub/potential-tribble/downloads/\" + state +\".json\", 'w') as outfile:\n",
    "        #     json.dump(result, outfile)\n",
    "    except Exception as e:\n",
    "        print(e)\n",
    "        pass"
   ]
  },
  {
   "cell_type": "code",
   "execution_count": 1,
   "metadata": {},
   "outputs": [
    {
     "output_type": "stream",
     "name": "stdout",
     "text": [
      "processing data1\n",
      "processing data2\n",
      "processing data3\n"
     ]
    }
   ],
   "source": [
    "from threading import Thread\n",
    "\n",
    "def process(data):\n",
    "    print(f\"processing {data}\")\n",
    "\n",
    "l= [\"data1\", \"data2\", \"data3\"]\n",
    "\n",
    "for task in l:\n",
    "    t = Thread(target=process, args=(task,))\n",
    "    t.start()"
   ]
  }
 ]
}